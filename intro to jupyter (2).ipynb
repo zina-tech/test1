{
 "cells": [
  {
   "cell_type": "markdown",
   "id": "a9fd9461-1b5b-4560-ae46-a92772c69511",
   "metadata": {},
   "source": [
    "Intro To Jupyter"
   ]
  },
  {
   "cell_type": "markdown",
   "id": "acc6edd9-d844-465a-86cf-12de75abf0a5",
   "metadata": {},
   "source": [
    "Section 1 - Hello world"
   ]
  },
  {
   "cell_type": "code",
   "execution_count": 2,
   "id": "35aac666-dad0-46bc-bb45-0ea306d422a7",
   "metadata": {},
   "outputs": [
    {
     "name": "stdout",
     "output_type": "stream",
     "text": [
      "Hello World\n"
     ]
    }
   ],
   "source": [
    "print(\"Hello World\")   #print Hello World"
   ]
  },
  {
   "cell_type": "code",
   "execution_count": 4,
   "id": "420810b5-1df8-4d42-81ab-0c36a46d2fa3",
   "metadata": {},
   "outputs": [
    {
     "name": "stdout",
     "output_type": "stream",
     "text": [
      "Hello\n",
      "World\n"
     ]
    }
   ],
   "source": [
    "print(\"Hello\\nWorld\")   #print Hello World with new line"
   ]
  },
  {
   "cell_type": "code",
   "execution_count": 6,
   "id": "203df650-248e-4688-9d7f-8b285be8fb72",
   "metadata": {},
   "outputs": [
    {
     "name": "stdout",
     "output_type": "stream",
     "text": [
      "Hello\tworld\n"
     ]
    }
   ],
   "source": [
    "print(\"Hello\\tworld\")   #print Hello World with tab space"
   ]
  },
  {
   "cell_type": "markdown",
   "id": "2f76fa9a-b99c-444e-b874-759dba747fc3",
   "metadata": {},
   "source": [
    "Section 2 - Math Operation"
   ]
  },
  {
   "cell_type": "code",
   "execution_count": 7,
   "id": "bd228e88-7663-436c-a057-7c777d65d1dd",
   "metadata": {},
   "outputs": [
    {
     "data": {
      "text/plain": [
       "4"
      ]
     },
     "execution_count": 7,
     "metadata": {},
     "output_type": "execute_result"
    }
   ],
   "source": [
    "2+2   #representation addition"
   ]
  },
  {
   "cell_type": "code",
   "execution_count": 8,
   "id": "70c6b33b-7349-4dd0-a0cf-bd415040efda",
   "metadata": {},
   "outputs": [
    {
     "data": {
      "text/plain": [
       "1"
      ]
     },
     "execution_count": 8,
     "metadata": {},
     "output_type": "execute_result"
    }
   ],
   "source": [
    "6-5   # representation subtraction"
   ]
  },
  {
   "cell_type": "code",
   "execution_count": 9,
   "id": "a338c3ad-dbf4-4ff2-bf85-c9c10aad7eb6",
   "metadata": {},
   "outputs": [
    {
     "data": {
      "text/plain": [
       "25"
      ]
     },
     "execution_count": 9,
     "metadata": {},
     "output_type": "execute_result"
    }
   ],
   "source": [
    "5*5   # representaton multiplication"
   ]
  },
  {
   "cell_type": "code",
   "execution_count": 10,
   "id": "1f4cfa1a-cf19-4af0-a9b1-050c26985517",
   "metadata": {},
   "outputs": [
    {
     "data": {
      "text/plain": [
       "10.666666666666666"
      ]
     },
     "execution_count": 10,
     "metadata": {},
     "output_type": "execute_result"
    }
   ],
   "source": [
    "64/6   # representation devision"
   ]
  },
  {
   "cell_type": "code",
   "execution_count": 12,
   "id": "b891a009-dde9-4479-a095-e9c8eb3bf213",
   "metadata": {},
   "outputs": [
    {
     "data": {
      "text/plain": [
       "10"
      ]
     },
     "execution_count": 12,
     "metadata": {},
     "output_type": "execute_result"
    }
   ],
   "source": [
    "64//6   # represenation division with round"
   ]
  },
  {
   "cell_type": "markdown",
   "id": "2260a258-77a0-4671-ac18-4b31ac915ce2",
   "metadata": {},
   "source": [
    "Section 3 - Data types"
   ]
  },
  {
   "cell_type": "code",
   "execution_count": 13,
   "id": "0d1d120c-d8ce-4961-869f-1715546073f4",
   "metadata": {},
   "outputs": [
    {
     "data": {
      "text/plain": [
       "int"
      ]
     },
     "execution_count": 13,
     "metadata": {},
     "output_type": "execute_result"
    }
   ],
   "source": [
    "type(90)     # Representation of a int type"
   ]
  },
  {
   "cell_type": "code",
   "execution_count": 14,
   "id": "f5197f9c-c22e-43be-9331-386dfaa4ffff",
   "metadata": {},
   "outputs": [
    {
     "data": {
      "text/plain": [
       "float"
      ]
     },
     "execution_count": 14,
     "metadata": {},
     "output_type": "execute_result"
    }
   ],
   "source": [
    "type(9.99)   # Representation of a float type"
   ]
  },
  {
   "cell_type": "code",
   "execution_count": 15,
   "id": "74998dc5-8894-4ecf-a933-ffea093cdd03",
   "metadata": {},
   "outputs": [
    {
     "data": {
      "text/plain": [
       "str"
      ]
     },
     "execution_count": 15,
     "metadata": {},
     "output_type": "execute_result"
    }
   ],
   "source": [
    "type(\"Data Science\")   # Representation of a string type"
   ]
  },
  {
   "cell_type": "code",
   "execution_count": 17,
   "id": "836cfe98-562c-42a9-abaf-bce7f4c94854",
   "metadata": {},
   "outputs": [
    {
     "data": {
      "text/plain": [
       "'99'"
      ]
     },
     "execution_count": 17,
     "metadata": {},
     "output_type": "execute_result"
    }
   ],
   "source": [
    "\"9\"+\"9\" # representation of 2 string joind together"
   ]
  },
  {
   "cell_type": "markdown",
   "id": "144bfdb4-d5f3-4282-80ab-f930f5be551a",
   "metadata": {},
   "source": [
    "Section 4 - Functions"
   ]
  },
  {
   "cell_type": "code",
   "execution_count": 20,
   "id": "e81eacf3-a51c-442f-a95c-1512745bb60e",
   "metadata": {},
   "outputs": [],
   "source": [
    "def Function():\n",
    "    print(\"Data Science is my passion\")"
   ]
  },
  {
   "cell_type": "code",
   "execution_count": 21,
   "id": "1062c1c3-105c-45da-ac39-b52621a86648",
   "metadata": {},
   "outputs": [
    {
     "name": "stdout",
     "output_type": "stream",
     "text": [
      "Data Science is my passion\n"
     ]
    }
   ],
   "source": [
    "Function()"
   ]
  },
  {
   "cell_type": "code",
   "execution_count": 22,
   "id": "60920c7b-048a-4498-bf9b-93ab0ad5cb75",
   "metadata": {},
   "outputs": [
    {
     "data": {
      "text/plain": [
       "5.0"
      ]
     },
     "execution_count": 22,
     "metadata": {},
     "output_type": "execute_result"
    }
   ],
   "source": [
    "A=25\n",
    "B=5\n",
    "C=A/B\n",
    "C"
   ]
  }
 ],
 "metadata": {
  "kernelspec": {
   "display_name": "Python 3 (ipykernel)",
   "language": "python",
   "name": "python3"
  },
  "language_info": {
   "codemirror_mode": {
    "name": "ipython",
    "version": 3
   },
   "file_extension": ".py",
   "mimetype": "text/x-python",
   "name": "python",
   "nbconvert_exporter": "python",
   "pygments_lexer": "ipython3",
   "version": "3.9.13"
  }
 },
 "nbformat": 4,
 "nbformat_minor": 5
}
